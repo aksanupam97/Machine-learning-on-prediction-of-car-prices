{
  "nbformat": 4,
  "nbformat_minor": 0,
  "metadata": {
    "colab": {
      "provenance": []
    },
    "kernelspec": {
      "name": "python3",
      "display_name": "Python 3"
    },
    "language_info": {
      "name": "python"
    }
  },
  "cells": [
    {
      "cell_type": "code",
      "execution_count": null,
      "metadata": {
        "id": "QzeJOAfm1M7K"
      },
      "outputs": [],
      "source": [
        "import numpy as np\n",
        "import pandas as pd\n",
        "import matplotlib.pyplot as plt\n",
        "from matplotlib import rcParams\n",
        "import seaborn as sns\n",
        "import warnings\n",
        "warnings.filterwarnings('ignore')\n",
        "from sklearn.neighbors import KNeighborsClassifier\n",
        "df = pd.read_csv('dataset.csv')\n",
        "print(df.head())\n",
        "print(df.info())\n",
        "print(df.describe())\n",
        "import seaborn as sns\n",
        "corrmat = df.corr()\n",
        "top_corr_features = corrmat.index\n",
        "plt.figure(figsize=(16,16))\n",
        "#plot heat map\n",
        "g=sns.heatmap(df[top_corr_features].corr(),annot=True,cmap=\"RdYlGn\")\n",
        "plt.show()\n",
        "sns.set_style('whitegrid')\n",
        "sns.countplot(x='target',data=df,palette='RdBu_r')\n",
        "plt.show()\n",
        "dataset = pd.get_dummies(df, columns = ['sex', 'cp',\n",
        "                                        'fbs','restecg',\n",
        "                                        'exang', 'slope',\n",
        "                                        'ca', 'thal'])\n",
        "from sklearn.model_selection import train_test_split\n",
        "from sklearn.preprocessing import StandardScaler\n",
        "standardScaler = StandardScaler()\n",
        "columns_to_scale = ['age', 'trestbps', 'chol', 'thalach', 'oldpeak']\n",
        "dataset[columns_to_scale] = standardScaler.fit_transform(dataset[columns_to_scale])\n",
        "dataset.head()\n",
        "y = dataset['target']\n",
        "X = dataset.drop(['target'], axis = 1)\n",
        "from sklearn.model_selection import cross_val_score\n",
        "knn_scores = []\n",
        "for k in range(1,21):\n",
        "    knn_classifier = KNeighborsClassifier(n_neighbors = k)\n",
        "    score=cross_val_score(knn_classifier,X,y,cv=10)\n",
        "    knn_scores.append(score.mean())\n",
        "    plt.plot([k for k in range(1, 21)], knn_scores, color = 'red')\n",
        "for i in range(1,21):\n",
        "    plt.text(i, knn_scores[i-1], (i, knn_scores[i-1]))\n",
        "plt.xticks([i for i in range(1, 21)])\n",
        "plt.xlabel('Number of Neighbors (K)')\n",
        "plt.ylabel('Scores')\n",
        "plt.title('K Neighbors Classifier scores for different K values')\n",
        "plt.show()\n",
        "knn_classifier = KNeighborsClassifier(n_neighbors = 12)\n",
        "score=cross_val_score(knn_classifier,X,y,cv=10)\n",
        "score.mean()\n",
        "from sklearn.ensemble import RandomForestClassifier\n",
        "randomforest_classifier= RandomForestClassifier(n_estimators=10)\n",
        "score=cross_val_score(randomforest_classifier,X,y,cv=10)\n",
        "score.mean()"
      ]
    }
  ]
}